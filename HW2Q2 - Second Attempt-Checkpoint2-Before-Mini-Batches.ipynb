{
 "cells": [
  {
   "cell_type": "code",
   "execution_count": 1,
   "metadata": {
    "collapsed": false
   },
   "outputs": [],
   "source": [
    "import numpy as np\n",
    "from numpy import shape, matrix, log, exp, zeros,random,dot,multiply\n",
    "from mnist import readWithoutBias\n",
    "from math import sqrt"
   ]
  },
  {
   "cell_type": "code",
   "execution_count": 9,
   "metadata": {
    "collapsed": false
   },
   "outputs": [
    {
     "name": "stderr",
     "output_type": "stream",
     "text": [
      "/Users/apoorve/anaconda/lib/python2.7/site-packages/IPython/kernel/__main__.py:2: RuntimeWarning: invalid value encountered in divide\n",
      "  from IPython.kernel.zmq import kernelapp as app\n"
     ]
    }
   ],
   "source": [
    "data_train, label_train = readWithoutBias(dataset=\"training\")\n",
    "data_test, label_test = readWithoutBias(dataset=\"testing\")\n",
    "label_train = matrix(label_train)\n",
    "label_test  = matrix(label_test)\n",
    "data_train  = matrix(data_train).T\n",
    "data_test   = matrix(data_test).T\n",
    "data_train  = zscore(data_train)\n",
    "data_test   = zscore(data_test)"
   ]
  },
  {
   "cell_type": "markdown",
   "metadata": {},
   "source": [
    "##Code with full input (refer Checkpoint 1 for 1 input)"
   ]
  },
  {
   "cell_type": "code",
   "execution_count": 10,
   "metadata": {
    "collapsed": true
   },
   "outputs": [],
   "source": [
    "n_input = shape(data_train)[0] # excluding bias term\n",
    "n_hidden = 100                  # excluding bias term\n",
    "n_output = 10\n",
    "epsilon = 0.7\n",
    "random.seed(0)\n",
    "theta1 = matrix(random.randn(n_hidden,n_input+1))/sqrt(n_input)\n",
    "theta2 = matrix(random.randn(n_output,n_hidden+1))/sqrt(n_hidden)\n",
    "#shape(theta1),shape(theta2)\n",
    "#((20, 785), (10, 21))"
   ]
  },
  {
   "cell_type": "markdown",
   "metadata": {},
   "source": [
    "### Training Code"
   ]
  },
  {
   "cell_type": "code",
   "execution_count": 11,
   "metadata": {
    "collapsed": true
   },
   "outputs": [],
   "source": [
    "X = data_train\n",
    "y = label_train"
   ]
  },
  {
   "cell_type": "code",
   "execution_count": 15,
   "metadata": {
    "collapsed": false
   },
   "outputs": [
    {
     "name": "stdout",
     "output_type": "stream",
     "text": [
      "0.883416666667 0.8857\n",
      "0.8834 0.8857\n",
      "0.883366666667 0.8856\n",
      "0.883366666667 0.8856\n",
      "0.88335 0.8856\n",
      "0.8834 0.8855\n",
      "0.883383333333 0.8856\n",
      "0.883416666667 0.8856\n",
      "0.883416666667 0.8856\n",
      "0.883416666667 0.8856\n",
      "0.8834 0.8856\n",
      "0.883416666667 0.8856\n",
      "0.883416666667 0.8856\n",
      "0.883416666667 0.8856\n",
      "0.8834 0.8856\n",
      "0.883433333333 0.8856\n",
      "0.883466666667 0.8856\n",
      "0.883466666667 0.8857\n",
      "0.88345 0.8856\n",
      "0.88345 0.8856\n",
      "0.88345 0.8856\n",
      "0.883433333333 0.8856\n",
      "0.883433333333 0.8856\n",
      "0.883433333333 0.8856\n",
      "0.883366666667 0.8856\n",
      "0.88335 0.8856\n",
      "0.883383333333 0.8856\n",
      "0.88335 0.8856\n",
      "0.883383333333 0.8856\n",
      "0.883366666667 0.8856\n",
      "0.883416666667 0.8857\n",
      "0.883416666667 0.8856\n",
      "0.8834 0.8856\n",
      "0.883416666667 0.8856\n",
      "0.88345 0.8856\n",
      "0.88345 0.8856\n"
     ]
    },
    {
     "ename": "KeyboardInterrupt",
     "evalue": "",
     "output_type": "error",
     "traceback": [
      "\u001b[0;31m---------------------------------------------------------------------------\u001b[0m",
      "\u001b[0;31mKeyboardInterrupt\u001b[0m                         Traceback (most recent call last)",
      "\u001b[0;32m<ipython-input-15-bbdf09d734f1>\u001b[0m in \u001b[0;36m<module>\u001b[0;34m()\u001b[0m\n\u001b[1;32m     15\u001b[0m         \u001b[0mcount\u001b[0m \u001b[0;34m=\u001b[0m \u001b[0;36m0\u001b[0m\u001b[0;34m\u001b[0m\u001b[0m\n\u001b[1;32m     16\u001b[0m         \u001b[0;31m#print errorAll(matrix(data_train), label_train, theta1, theta2)\u001b[0m\u001b[0;34m\u001b[0m\u001b[0;34m\u001b[0m\u001b[0m\n\u001b[0;32m---> 17\u001b[0;31m         \u001b[0;32mprint\u001b[0m \u001b[0maccuracy\u001b[0m\u001b[0;34m(\u001b[0m\u001b[0mX\u001b[0m\u001b[0;34m,\u001b[0m \u001b[0my\u001b[0m\u001b[0;34m,\u001b[0m \u001b[0mtheta1\u001b[0m\u001b[0;34m,\u001b[0m \u001b[0mtheta2\u001b[0m\u001b[0;34m)\u001b[0m\u001b[0;34m,\u001b[0m\u001b[0maccuracy\u001b[0m\u001b[0;34m(\u001b[0m\u001b[0mX_test\u001b[0m\u001b[0;34m,\u001b[0m \u001b[0my_test\u001b[0m\u001b[0;34m,\u001b[0m \u001b[0mtheta1\u001b[0m\u001b[0;34m,\u001b[0m \u001b[0mtheta2\u001b[0m\u001b[0;34m)\u001b[0m \u001b[0;31m# get error on complete data\u001b[0m\u001b[0;34m\u001b[0m\u001b[0m\n\u001b[0m",
      "\u001b[0;31mKeyboardInterrupt\u001b[0m: "
     ]
    }
   ],
   "source": [
    "X = data_train\n",
    "y = label_train\n",
    "X_test = data_test\n",
    "y_test = label_test\n",
    "alpha = 0.00001\n",
    "random.seed(0)\n",
    "count = 0\n",
    "while(True):\n",
    "    i = random.randint(0,60000)\n",
    "    gradTheta1, gradTheta2 = backPropGradient(X[:,i], y[i], theta1, theta2) #just one example passed\n",
    "    theta1 = theta1 - alpha*gradTheta1\n",
    "    theta2 = theta2 - alpha*gradTheta2\n",
    "    count += 1\n",
    "    if count == 100:\n",
    "        count = 0\n",
    "        #print errorAll(matrix(data_train), label_train, theta1, theta2)\n",
    "        print accuracy(X, y, theta1, theta2),accuracy(X_test, y_test, theta1, theta2) # get error on complete data"
   ]
  },
  {
   "cell_type": "code",
   "execution_count": 45,
   "metadata": {
    "collapsed": false
   },
   "outputs": [
    {
     "data": {
      "text/plain": [
       "((20, 785), (10, 21), (10, 21), (20, 785), numpy.matrixlib.defmatrix.matrix)"
      ]
     },
     "execution_count": 45,
     "metadata": {},
     "output_type": "execute_result"
    }
   ],
   "source": [
    "shape(numGrad1-gradTheta1),shape(numGrad2),shape(gradTheta2), shape(gradTheta1), type(t)"
   ]
  },
  {
   "cell_type": "markdown",
   "metadata": {},
   "source": [
    "### Checking backpropgradient vs numerical gradient"
   ]
  },
  {
   "cell_type": "code",
   "execution_count": 12,
   "metadata": {
    "collapsed": false
   },
   "outputs": [
    {
     "name": "stdout",
     "output_type": "stream",
     "text": [
      "-6.50634039701e-10\n",
      "-3.4210120117e-08\n"
     ]
    }
   ],
   "source": [
    "gradTheta1, gradTheta2 = backPropGradient(X[:,0],y[0],theta1,theta2)\n",
    "numGrad1,numGrad2      = numericalGradient(X[:,0],y[0],theta1,theta2)\n",
    "print np.sum(np.subtract(numGrad2,gradTheta2))\n",
    "print np.sum(np.subtract(numGrad1,gradTheta1))"
   ]
  },
  {
   "cell_type": "markdown",
   "metadata": {},
   "source": [
    "### Helper Functions"
   ]
  },
  {
   "cell_type": "code",
   "execution_count": 3,
   "metadata": {
    "collapsed": true
   },
   "outputs": [],
   "source": [
    "def zscore(z):\n",
    "    return np.nan_to_num((z - z.mean(axis=1))/z.std(axis=1))"
   ]
  },
  {
   "cell_type": "code",
   "execution_count": 4,
   "metadata": {
    "collapsed": true
   },
   "outputs": [],
   "source": [
    "def accuracy(X, y, theta1, theta2):\n",
    "    n_examples = shape(X)[1]\n",
    "    a1 = np.vstack((np.ones((1,n_examples)),X))\n",
    "    z2 = dot(theta1,a1)\n",
    "    a2 = np.vstack((np.ones((1,shape(z2)[1])),sigmoid(z2)))\n",
    "    z3 = dot(theta2,a2)\n",
    "    a3 = sigmoid(z3)\n",
    "    \n",
    "    pred = np.argmax(a3,axis=0)\n",
    "    return np.sum(np.equal(pred,y.T))/float(len(y))\n",
    "    "
   ]
  },
  {
   "cell_type": "code",
   "execution_count": 5,
   "metadata": {
    "collapsed": false
   },
   "outputs": [],
   "source": [
    "def backPropGradient(X, y, theta1, theta2):\n",
    "    n_examples = shape(X)[1]\n",
    "    a1 = np.vstack((np.ones((1,n_examples)),X))\n",
    "    z2 = dot(theta1,a1)\n",
    "    a2 = np.vstack((np.ones((1,shape(z2)[1])),sigmoid(z2)))\n",
    "    z3 = dot(theta2,a2)\n",
    "    a3 = sigmoid(z3)\n",
    "    \n",
    "    t = np.zeros_like(a3)\n",
    "    for i in range(len(y)):\n",
    "        t[y[i],i] = 1\n",
    "    \n",
    "    delta3 = a3-t\n",
    "    delta2 = dot(theta2.T,delta3)[1:]\n",
    "    delta2 = multiply(delta2,sigmoidGradient(z2))\n",
    "\n",
    "    gradTheta2 = dot(delta3,a2.T)\n",
    "    gradTheta1 = dot(delta2,a1.T)\n",
    "    return gradTheta1, gradTheta2"
   ]
  },
  {
   "cell_type": "code",
   "execution_count": 6,
   "metadata": {
    "collapsed": true
   },
   "outputs": [],
   "source": [
    "def numericalGradient(X, y, theta1, theta2):\n",
    "    epsilon = 10**-5\n",
    "    numGrad1 = np.zeros_like(theta1)\n",
    "    numGrad2 = np.zeros_like(theta2)\n",
    "    for i in range(shape(theta1)[0]):\n",
    "        for j in range(shape(theta1)[1]):\n",
    "            theta1_pos = np.copy(theta1)\n",
    "            theta1_neg = np.copy(theta1)\n",
    "            theta1_pos[i,j] += epsilon\n",
    "            theta1_neg[i,j] -= epsilon\n",
    "            numGrad1[i,j]    = (errorFn(X, y, theta1_pos, theta2) - errorFn(X, y, theta1_neg, theta2))/2/epsilon\n",
    "    for i in range(shape(theta2)[0]):\n",
    "        for j in range(shape(theta2)[1]):\n",
    "            theta2_pos = np.copy(theta2)\n",
    "            theta2_neg = np.copy(theta2)\n",
    "            theta2_pos[i,j] += epsilon\n",
    "            theta2_neg[i,j] -= epsilon\n",
    "            numGrad2[i,j]    = (errorFn(X, y, theta1, theta2_pos) - errorFn(X, y, theta1, theta2_neg))/2/epsilon\n",
    "    return numGrad1,numGrad2"
   ]
  },
  {
   "cell_type": "code",
   "execution_count": 7,
   "metadata": {
    "collapsed": true
   },
   "outputs": [],
   "source": [
    "def errorFn(X, y, theta1, theta2):\n",
    "    n_examples = shape(X)[1]\n",
    "    a1 = np.vstack((np.ones((1,n_examples)),X))\n",
    "    z2 = dot(theta1,a1)\n",
    "    a2 = np.vstack((np.ones((1,shape(z2)[1])),sigmoid(z2)))\n",
    "    z3 = dot(theta2,a2)\n",
    "    a3 = sigmoid(z3)\n",
    "\n",
    "    t = np.zeros_like(a3)\n",
    "    for i in range(len(y)):\n",
    "        t[y[i],i] = 1\n",
    "\n",
    "    error = np.sum(multiply(t,log(a3)) + multiply((1-t),log(1-a3)))\n",
    "    error = -error/n_examples\n",
    "    return error"
   ]
  },
  {
   "cell_type": "code",
   "execution_count": 8,
   "metadata": {
    "collapsed": true
   },
   "outputs": [],
   "source": [
    "def sigmoid(z):\n",
    "    return 1/(1+exp(-z))\n",
    "def sigmoidGradient(z):\n",
    "    s = sigmoid(z)\n",
    "    return multiply(s,1-s)"
   ]
  },
  {
   "cell_type": "code",
   "execution_count": 9,
   "metadata": {
    "collapsed": false
   },
   "outputs": [
    {
     "ename": "NameError",
     "evalue": "name 'pred' is not defined",
     "output_type": "error",
     "traceback": [
      "\u001b[0;31m---------------------------------------------------------------------------\u001b[0m",
      "\u001b[0;31mNameError\u001b[0m                                 Traceback (most recent call last)",
      "\u001b[0;32m<ipython-input-9-699752afe175>\u001b[0m in \u001b[0;36m<module>\u001b[0;34m()\u001b[0m\n\u001b[0;32m----> 1\u001b[0;31m \u001b[0mshape\u001b[0m\u001b[0;34m(\u001b[0m\u001b[0mpred\u001b[0m\u001b[0;34m)\u001b[0m\u001b[0;34m,\u001b[0m\u001b[0mshape\u001b[0m\u001b[0;34m(\u001b[0m\u001b[0my_test\u001b[0m\u001b[0;34m)\u001b[0m\u001b[0;34m\u001b[0m\u001b[0m\n\u001b[0m",
      "\u001b[0;31mNameError\u001b[0m: name 'pred' is not defined"
     ]
    }
   ],
   "source": [
    "shape(pred),shape(y_test)"
   ]
  },
  {
   "cell_type": "code",
   "execution_count": null,
   "metadata": {
    "collapsed": false
   },
   "outputs": [],
   "source": [
    "pred = accuracy(X_test,y_test,theta1,theta2)"
   ]
  },
  {
   "cell_type": "code",
   "execution_count": null,
   "metadata": {
    "collapsed": false
   },
   "outputs": [],
   "source": [
    "shape(yu),type(yu),shape(pu),type(pu)"
   ]
  },
  {
   "cell_type": "code",
   "execution_count": null,
   "metadata": {
    "collapsed": false
   },
   "outputs": [],
   "source": [
    "yu =np.array(y_test).flatten()\n",
    "pu = np.array(pred).flatten()"
   ]
  },
  {
   "cell_type": "code",
   "execution_count": null,
   "metadata": {
    "collapsed": true
   },
   "outputs": [],
   "source": []
  },
  {
   "cell_type": "code",
   "execution_count": null,
   "metadata": {
    "collapsed": false
   },
   "outputs": [],
   "source": [
    "import seaborn as sns\n",
    "from seaborn import plt\n",
    "from sklearn import metrics\n"
   ]
  },
  {
   "cell_type": "code",
   "execution_count": null,
   "metadata": {
    "collapsed": false
   },
   "outputs": [],
   "source": [
    "label_names = [0,1,2,3,4,5,6,7,8,9]\n",
    "sns.set_style(\"white\")\n",
    "sns.axes_style(\"dark\")\n",
    "plt.figure(figsize=(5, 5))\n",
    "plt.imshow(metrics.confusion_matrix(yu, pu), interpolation='nearest', cmap=plt.cm.Greys,)\n",
    "plt.title(\"Confusion matrix\")\n",
    "plt.colorbar()\n",
    "tick_marks = np.arange(len(label_names))\n",
    "plt.xticks(tick_marks, label_names, rotation=90)\n",
    "plt.yticks(tick_marks, label_names)\n",
    "plt.tight_layout()\n",
    "plt.ylabel('Actual Labels')\n",
    "plt.xlabel('Predicted Labels')"
   ]
  },
  {
   "cell_type": "code",
   "execution_count": null,
   "metadata": {
    "collapsed": true
   },
   "outputs": [],
   "source": [
    "%matplotlib inline"
   ]
  },
  {
   "cell_type": "code",
   "execution_count": null,
   "metadata": {
    "collapsed": true
   },
   "outputs": [],
   "source": []
  }
 ],
 "metadata": {
  "kernelspec": {
   "display_name": "Python 2",
   "language": "python",
   "name": "python2"
  },
  "language_info": {
   "codemirror_mode": {
    "name": "ipython",
    "version": 2
   },
   "file_extension": ".py",
   "mimetype": "text/x-python",
   "name": "python",
   "nbconvert_exporter": "python",
   "pygments_lexer": "ipython2",
   "version": "2.7.10"
  }
 },
 "nbformat": 4,
 "nbformat_minor": 0
}
