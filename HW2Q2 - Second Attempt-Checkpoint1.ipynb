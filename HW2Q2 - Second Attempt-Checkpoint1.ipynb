{
 "cells": [
  {
   "cell_type": "markdown",
   "metadata": {},
   "source": [
    "# Mistake: z-scoring along the wrong axis"
   ]
  },
  {
   "cell_type": "code",
   "execution_count": 1,
   "metadata": {
    "collapsed": false
   },
   "outputs": [],
   "source": [
    "import numpy as np\n",
    "from numpy import shape, matrix, log, exp, zeros,random,dot,multiply\n",
    "from mnist import readWithoutBias"
   ]
  },
  {
   "cell_type": "code",
   "execution_count": 2,
   "metadata": {
    "collapsed": true
   },
   "outputs": [],
   "source": [
    "data_train, label_train = readWithoutBias(dataset=\"training\")\n",
    "data_test, label_test = readWithoutBias(dataset=\"testing\")"
   ]
  },
  {
   "cell_type": "code",
   "execution_count": 3,
   "metadata": {
    "collapsed": true
   },
   "outputs": [],
   "source": [
    "label_train = matrix(label_train)\n",
    "label_test  = matrix(label_test)"
   ]
  },
  {
   "cell_type": "code",
   "execution_count": 5,
   "metadata": {
    "collapsed": false
   },
   "outputs": [
    {
     "data": {
      "text/plain": [
       "((60000, 784), (60000, 1))"
      ]
     },
     "execution_count": 5,
     "metadata": {},
     "output_type": "execute_result"
    }
   ],
   "source": [
    "shape(data_train),shape(label_train)"
   ]
  },
  {
   "cell_type": "markdown",
   "metadata": {},
   "source": [
    "##Code with only One input"
   ]
  },
  {
   "cell_type": "code",
   "execution_count": 118,
   "metadata": {
    "collapsed": false
   },
   "outputs": [],
   "source": [
    "alpha = 0.001\n",
    "n_input = shape(data_train)[1] # excluding bias term\n",
    "n_hidden = 20                  # excluding bias term\n",
    "n_output = 10\n",
    "epsilon = 0.7\n",
    "random.seed(0)\n",
    "theta1 = matrix(random.rand(n_hidden,n_input+1)*2*epsilon - epsilon)\n",
    "theta2 = matrix(random.rand(n_output,n_hidden+1)*2*epsilon - epsilon)\n",
    "#shape(theta1),shape(theta2)\n",
    "#((20, 785), (10, 21))"
   ]
  },
  {
   "cell_type": "code",
   "execution_count": 119,
   "metadata": {
    "collapsed": true
   },
   "outputs": [],
   "source": [
    "\n",
    "X = matrix(data_train[0,:]).T\n",
    "y = label_train[0]"
   ]
  },
  {
   "cell_type": "markdown",
   "metadata": {},
   "source": [
    "####Forward prop"
   ]
  },
  {
   "cell_type": "code",
   "execution_count": 120,
   "metadata": {
    "collapsed": false
   },
   "outputs": [],
   "source": [
    "X = (X - np.mean(X))/np.std(X)\n",
    "a1 = np.vstack(([1],X))\n",
    "z2 = dot(theta1,a1)\n",
    "a2 = np.vstack(([1],sigmoid(z2)))\n",
    "z3 = dot(theta2,a2)\n",
    "a3 = sigmoid(z3)"
   ]
  },
  {
   "cell_type": "markdown",
   "metadata": {},
   "source": [
    "#### Back prop"
   ]
  },
  {
   "cell_type": "code",
   "execution_count": 127,
   "metadata": {
    "collapsed": false
   },
   "outputs": [],
   "source": [
    "t = np.zeros_like(a3)\n",
    "t[y] = 1\n",
    "delta3 = a3-t\n",
    "delta2 = dot(theta2.T,delta3)[1:]\n",
    "delta2 = multiply(delta2,sigmoidGradient(z2))\n",
    "\n",
    "gradTheta2 = dot(delta3,a2.T)\n",
    "gradTheta1 = dot(delta2,a1.T)"
   ]
  },
  {
   "cell_type": "code",
   "execution_count": 145,
   "metadata": {
    "collapsed": false
   },
   "outputs": [
    {
     "data": {
      "text/plain": [
       "((20, 785), (10, 21), (10, 21), (20, 785), numpy.matrixlib.defmatrix.matrix)"
      ]
     },
     "execution_count": 145,
     "metadata": {},
     "output_type": "execute_result"
    }
   ],
   "source": [
    "shape(numGrad1-gradTheta1),shape(numGrad2),shape(gradTheta2), shape(gradTheta1), type(t)"
   ]
  },
  {
   "cell_type": "code",
   "execution_count": 125,
   "metadata": {
    "collapsed": false
   },
   "outputs": [
    {
     "data": {
      "text/plain": [
       "matrix([[ 0.47986079],\n",
       "        [ 0.2614446 ],\n",
       "        [ 0.76381289],\n",
       "        [ 0.21341023],\n",
       "        [ 0.64900345],\n",
       "        [ 0.31705368],\n",
       "        [ 0.55712291],\n",
       "        [ 0.44706651],\n",
       "        [ 0.21914671],\n",
       "        [ 0.27258546]])"
      ]
     },
     "execution_count": 125,
     "metadata": {},
     "output_type": "execute_result"
    }
   ],
   "source": [
    "a3"
   ]
  },
  {
   "cell_type": "code",
   "execution_count": 143,
   "metadata": {
    "collapsed": false
   },
   "outputs": [],
   "source": [
    "gradTheta1, gradTheta2 = backPropGradient(X,y,theta1,theta2)\n",
    "numGrad1,numGrad2      = numericalGradient(X,y,theta1,theta2)"
   ]
  },
  {
   "cell_type": "code",
   "execution_count": 147,
   "metadata": {
    "collapsed": false
   },
   "outputs": [
    {
     "data": {
      "text/plain": [
       "5.0095653235442588e-09"
      ]
     },
     "execution_count": 147,
     "metadata": {},
     "output_type": "execute_result"
    }
   ],
   "source": [
    "np.sum(np.subtract(numGrad2,gradTheta2))"
   ]
  },
  {
   "cell_type": "markdown",
   "metadata": {},
   "source": [
    "### helperfunctions"
   ]
  },
  {
   "cell_type": "code",
   "execution_count": 142,
   "metadata": {
    "collapsed": true
   },
   "outputs": [],
   "source": [
    "def numericalGradient(X, y, theta1, theta2):\n",
    "    epsilon = 10**-4\n",
    "    numGrad1 = np.zeros_like(theta1)\n",
    "    numGrad2 = np.zeros_like(theta2)\n",
    "    for i in range(shape(theta1)[0]):\n",
    "        for j in range(shape(theta1)[1]):\n",
    "            theta1_pos = np.copy(theta1)\n",
    "            theta1_neg = np.copy(theta1)\n",
    "            theta1_pos[i,j] += epsilon\n",
    "            theta1_neg[i,j] -= epsilon\n",
    "            numGrad1[i,j]    = (errorFn(X, y, theta1_pos, theta2) - errorFn(X, y, theta1_neg, theta2))/2/epsilon\n",
    "    for i in range(shape(theta2)[0]):\n",
    "        for j in range(shape(theta2)[1]):\n",
    "            theta2_pos = np.copy(theta2)\n",
    "            theta2_neg = np.copy(theta2)\n",
    "            theta2_pos[i,j] += epsilon\n",
    "            theta2_neg[i,j] -= epsilon\n",
    "            numGrad2[i,j]    = (errorFn(X, y, theta1, theta2_pos) - errorFn(X, y, theta1, theta2_neg))/2/epsilon\n",
    "    return numGrad1,numGrad2"
   ]
  },
  {
   "cell_type": "code",
   "execution_count": 140,
   "metadata": {
    "collapsed": true
   },
   "outputs": [],
   "source": [
    "def errorFn(X, y, theta1, theta2):\n",
    "    a1 = np.vstack(([1],X))\n",
    "    z2 = dot(theta1,a1)\n",
    "    a2 = np.vstack(([1],sigmoid(z2)))\n",
    "    z3 = dot(theta2,a2)\n",
    "    a3 = sigmoid(z3)\n",
    "    \n",
    "    t = np.zeros_like(a3)\n",
    "    t[y] = 1\n",
    "    \n",
    "    error = np.sum(multiply(t,log(a3)) + multiply((1-t),log(1-a3)))\n",
    "    error = -error\n",
    "    return error"
   ]
  },
  {
   "cell_type": "code",
   "execution_count": 130,
   "metadata": {
    "collapsed": false
   },
   "outputs": [],
   "source": [
    "def backPropGradient(X, y, theta1, theta2):\n",
    "    a1 = np.vstack(([1],X))\n",
    "    z2 = dot(theta1,a1)\n",
    "    a2 = np.vstack(([1],sigmoid(z2)))\n",
    "    z3 = dot(theta2,a2)\n",
    "    a3 = sigmoid(z3)\n",
    "    \n",
    "    t = np.zeros_like(a3)\n",
    "    t[y] = 1\n",
    "    \n",
    "    delta3 = a3-t\n",
    "    delta2 = dot(theta2.T,delta3)[1:]\n",
    "    delta2 = multiply(delta2,sigmoidGradient(z2))\n",
    "\n",
    "    gradTheta2 = dot(delta3,a2.T)\n",
    "    gradTheta1 = dot(delta2,a1.T)\n",
    "    return gradTheta1, gradTheta2"
   ]
  },
  {
   "cell_type": "code",
   "execution_count": 43,
   "metadata": {
    "collapsed": true
   },
   "outputs": [],
   "source": [
    "def sigmoid(z):\n",
    "    return 1/(1+exp(-z))\n",
    "def sigmoidGradient(z):\n",
    "    s = sigmoid(z)\n",
    "    return multiply(s,1-s)"
   ]
  },
  {
   "cell_type": "code",
   "execution_count": null,
   "metadata": {
    "collapsed": true
   },
   "outputs": [],
   "source": []
  }
 ],
 "metadata": {
  "kernelspec": {
   "display_name": "Python 2",
   "language": "python",
   "name": "python2"
  },
  "language_info": {
   "codemirror_mode": {
    "name": "ipython",
    "version": 2
   },
   "file_extension": ".py",
   "mimetype": "text/x-python",
   "name": "python",
   "nbconvert_exporter": "python",
   "pygments_lexer": "ipython2",
   "version": "2.7.10"
  }
 },
 "nbformat": 4,
 "nbformat_minor": 0
}
